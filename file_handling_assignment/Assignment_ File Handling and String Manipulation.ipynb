{
 "cells": [
  {
   "cell_type": "code",
   "execution_count": null,
   "metadata": {},
   "outputs": [],
   "source": [
    "#     A sample script of Game of Thrones was taken from the page and stored in the file\n",
    "#     conv.txt in the dataset folder. Your task is to read the file and do the following:\n",
    "# 1.  Find out the number of unique characters in the sample conversation?\n",
    "# 2.  Create a new text file for each of the characters with their name and store the unique\n",
    "#     words said by them in their respective file. Store one word in one line."
   ]
  },
  {
   "cell_type": "code",
   "execution_count": 1,
   "metadata": {},
   "outputs": [
    {
     "name": "stdout",
     "output_type": "stream",
     "text": [
      "No Of Unique Characters Involved In The Conversation are :-  17 \n",
      "Those are :- \n"
     ]
    },
    {
     "data": {
      "text/plain": [
       "{'ARYA',\n",
       " 'BRAN',\n",
       " 'CASSEL',\n",
       " 'CATELYN',\n",
       " 'CERSEI',\n",
       " 'GARED',\n",
       " 'JAIME',\n",
       " 'JON',\n",
       " 'NED',\n",
       " 'ROBB',\n",
       " 'ROBERT',\n",
       " 'ROYCE',\n",
       " 'SANSA',\n",
       " 'SEPTA MORDANE',\n",
       " 'THEON',\n",
       " 'WAYMAR ROYCE',\n",
       " 'WILL'}"
      ]
     },
     "execution_count": 1,
     "metadata": {},
     "output_type": "execute_result"
    }
   ],
   "source": [
    "#Find out the number of unique characters in the sample conversation?\n",
    "a = []\n",
    "fr = open('dataset/conv.txt','r').readlines()\n",
    "# print each line text\n",
    "for line in fr :\n",
    "    unique_characters = line.split(' ')\n",
    "    if unique_characters[0] != '\\n':\n",
    "        if unique_characters[0].endswith(':') == 1:\n",
    "            a.append(unique_characters[0].replace(\":\",\"\"))\n",
    "        else:\n",
    "            c = (unique_characters[0] + \" \" +unique_characters[1])\n",
    "            a.append(c.replace(\":\",\"\"))\n",
    "b=set(a)\n",
    "\n",
    "print(\"No Of Unique Characters Involved In The Conversation are :- \",len(b),\"\\nThose are :- \")\n",
    "b\n"
   ]
  },
  {
   "cell_type": "code",
   "execution_count": 2,
   "metadata": {},
   "outputs": [
    {
     "name": "stdout",
     "output_type": "stream",
     "text": [
      "\n",
      "\n",
      " SEPTA MORDANE ------------------------------------------------------------\n",
      "{'as', 'Well', 'in', 'to', 'MORDANE:', 'always.', 'detail', 'corners.', 'this', 'Fine', 'I', 'managed', 'get', 'youâ€™ve', 'SEPTA', 'love', 'done.', 'the', 'that', 'work,'}\n",
      "\n",
      "\n",
      " ROYCE ------------------------------------------------------------\n",
      "{'thing', 'as', 'Get', 'south,', 'to', 'catch', 'have', 'camp.', 'children.', 'course,', 'you?', 'not', 'you', 'â€¦', 'Of', 'Your', 'behead', 'What', 'Itâ€™s', 'ask', 'dead', 'ROYCE:', 'deserter', 'away', 'they', 'frighten', 'run', 'I', 'again.', 'how', 'your', 'think', 'If', 'men', 'good', 'it?', 'weâ€™re', 'is', 'died?', 'want', 'away.', 'first.', 'will', 'seem', 'horse.', 'Do', 'back', 'You', 'moved', 'heâ€™ll', 'on', 'a', 'donâ€™t', 'the', 'us', 'wonâ€™t', 'it', 'say'}\n",
      "\n",
      "\n",
      " ARYA ------------------------------------------------------------\n",
      "{'Thatâ€™s', 'Imp?', 'twin', 'Lannister.', 'The', 'queenâ€™s', 'Jaime', 'the', 'Whereâ€™s', 'brother.', 'Arya.', 'ARYA:'}\n",
      "\n",
      "\n",
      " WAYMAR ROYCE ------------------------------------------------------------\n",
      "{'WAYMAR', 'did', 'close', 'ROYCE:', 'you', 'How', 'get?'}\n",
      "\n",
      "\n",
      " BRAN ------------------------------------------------------------\n",
      "{'he', 'Where', 'true', 'Jon', 'way', 'Heâ€™s', 'you?', 'hundreds', 'What', 'BRAN:', 'heâ€™s', 'was', 'way?', 'said', 'Their', 'dead.', 'right', 'coming', 'they', 'So', 'Walkers?', 'I', 'our', 'But', 'Down', 'Please,', 'NO!', 'saw', 'king!', 'go?', 'now!', 'deserter.', 'road!', 'father!', 'will', 'White', 'lying?', 'Is', 'got', 'a', 'about', 'people!', 'the', 'of', 'Our', 'old', 'it', 'is', 'motherâ€™s'}\n",
      "\n",
      "\n",
      " WILL ------------------------------------------------------------\n",
      "{'WILL:', 'thing', 'as', 'in', 'to', 'killed', 'Close', 'never', 'children.', 'not', 'even', 'Whatever', 'Iâ€™ve', 'were', 'They', 'did', 'could', 'man', 'them', 'us.', 'here.', 'wildlings', 'ever', 'my', 'like', 'this,', 'life.', 'seen', 'would.', 'any', 'a', 'do', 'the', 'it', 'this.'}\n",
      "\n",
      "\n",
      " ROBB ------------------------------------------------------------\n",
      "{'he', 'Put', 'likes', 'Heâ€™s', 'never', 'girl', 'his', 'What', 'Go', 'him', 'arm.', 'are', 'right', 'There', 'away', 'and', 'prick.', 'ROBB:', 'met', 'run', 'get', 'I', 'your', 'better', 'it?', 'blade.', 'direwolves', 'hear', 'royal', 'Relax', 'good.', 'Lad,', 'back', 'bow', 'go', 'rest.', 'own', 'prince', 'no', 'a', 'Tommy,', 'the', 'south', 'of', 'than', 'hair.', 'Wall.', 'is', 'on,', 'shave'}\n",
      "\n",
      "\n",
      " JON ------------------------------------------------------------\n",
      "{'Bran.', 'Fatherâ€™s', 'Get', 'to', 'for', 'have', 'if', 'children.', 'five.', 'And', 'you', 'not', 'What', 'Lord', 'there', 'were', 'Go', 'They', 'did', 'hold', 'meant', 'are', 'direwolf', 'Father', 'There', 'know', 'pups.', 'each', 'think', 'your', 'watching.', 'well.', 'The', 'much,', 'it?', 'sigil', 'JON:', 'Stark?', 'do.', 'One', 'Donâ€™t', 'want', 'too', 'on.', 'mother.', 'House.', 'them.', 'will', 'Now', 'Stark.', 'You', 'Iâ€™m', 'Stark', 'a', 'the', 'of', 'five', 'is'}\n",
      "\n",
      "\n",
      " GARED ------------------------------------------------------------\n",
      "{'tracked', 'to', 'We', 'should', 'track', 'went.', 'wall.', 'were', 'They', 'GARED:', 'where', 'more.', 'they', 'head', 'them.', 'See', 'back', 'no', 'the', 'Our', 'us', 'wonâ€™t', 'trouble', 'orders', 'wildlings.'}\n",
      "\n",
      "\n",
      " THEON ------------------------------------------------------------\n",
      "{'to', 'Right.', 'THEON:', 'not', 'from', 'his', 'southern', 'Itâ€™s', 'take', 'lion?', 'Think', 'you.', 'right', 'prick.', 'I', 'girls', 'your', 'here.', 'stab', 'royal', 'freak.', 'with', 'Mountain', 'those', 'gets', 'a', 'all', 'father,', 'Give', 'of', 'it', 'orders', 'he'}\n",
      "\n",
      "\n",
      " CERSEI ------------------------------------------------------------\n",
      "{'My', 'Where', 'been', 'for', 'Jon', 'if', 'should', 'husband.', 'What', 'Go', 'be', 'love.', 'king.', 'month,', 'dead', 'can', 'find', 'brother?', 'our', 'wait.', 'Hand', 'my', 'Surely', 'told', 'Weâ€™ve', 'little', 'Arryn', 'You', 'CERSEI:', 'a', 'riding', 'the', 'of', 'beast.', 'someone?', 'is'}\n",
      "\n",
      "\n",
      " JAIME ------------------------------------------------------------\n",
      "{'their', 'short.', 'now.', 'died', 'to', 'without.', 'king,', 'Jon', 'hunting', 'way', 'And', 'Whatever', 'didnâ€™t', 'his', 'while', 'JAIME:', 'or', 'life', 'tell?', 'heâ€™s', 'gates', 'skewered', 'be', 'are', 'off', 'someone', 'Their', 'can', 'honor', 'and', 'I', 'our', 'heads', 'lives', 'If', 'city', 'But', 'who', 'both', 'Or', 'long,', 'job', 'whores.', 'Thatâ€™s', 'know,', 'Hand', 'is', 'days', 'told', 'other', 'around?', 'choose', 'too', 'on.', 'Robert', 'by', 'knew', 'with', 'will', 'Arryn', 'fucking', 'would', 'on', 'him.', 'go', 'a', 'do', 'boars', 'an', 'the', 'of', 'new', 'it', 'he'}\n",
      "\n",
      "\n",
      " ROBERT ------------------------------------------------------------\n",
      "{'Ooh.', 'Where', 'to', 'never', 'you?', 'â€¦', 'was.', 'crack', 'showed', 'whatever', 'and', 'All', 'I', 'your', '16?', 'much,', 'had', 'at', 'want', 'Youâ€™ve', 'Ned.', 'fine,', 'You', 'got', 'Nine', 'the', 'loved', 'but', 'fuck', 'it', 'he', 'have', 'He', 'ROBERT:', 'was', 'then', 'fat.', 'muscles.', 'years.', 'been?', 'here?', 'me', 'respects.', 'seen', 'Robb.', 'do', 'us', 'wanted', 'Burned', 'crypt.', 'what.', 'we', 'minute', 'remember', 'Cat!', 'right', 'Show', 'my', 'One', 'through', 'him,', 'a', 'man.', 'teach', 'Youâ€™ll', 'girls.', 'hell', 'you', 'be', 'soldier.', 'Take', 'must', 'Who', 'Why', 'what', 'skulls', 'pay', 'havenâ€™t', 'that'}\n",
      "\n",
      "\n",
      " CASSEL ------------------------------------------------------------\n",
      "{'My', 'law', 'in', 'hills.', 'just', 'guardsman', 'from', 'Lord', 'They', 'captured', 'Watch.', 'deserter', 'law,', 'down', 'rode', 'The', 'Nightâ€™s', 'here.', 'A', 'my', 'CASSEL:', 'lady.', 'Theyâ€™ve', 'Stark.', 'a', 'donâ€™t', 'the', 'belong', 'is'}\n",
      "\n",
      "\n",
      " CATELYN ------------------------------------------------------------\n",
      "{'My', 'CATELYN:', 'things.', 'to', 'when', 'years', 'have', 'if', 'gods', 'you', 'Your', 'wonder', 'am', 'feel', 'so', 'queen.', 'love.', 'agree.', 'climbing.', 'Gods,', 'me.', 'All', 'young', 'and', 'they', 'I', 'still', 'How', 'promise', 'here.', 'fast.', 'these', 'my', 'told', 'Ten', 'want', 'too', 'sorry,', 'Grace.', 'outsider', 'see', 'times', 'such', 'to?', 'Do', 'Ned.', 'grow', 'an', 'many', 'climbing!', 'No', 'the', 'more', 'old', 'but', 'come', 'is', 'like'}\n",
      "\n",
      "\n",
      " NED ------------------------------------------------------------\n",
      "{'Bran.', 'passes', 'Andals', 'to', 'for', 'mountain', 'Winterfell', 'Jon', 'northern', 'sees', 'children.', 'not', 'â€¦', 'Men', 'did.', 'swing', 'die.', 'Eddard', 'Itâ€™s', 'five', 'man', 'There', 'Bran', 'sentence', 'and', 'yours.', 'Aye.', 'boy', 'I', 'your', 'The', 'Guarding', 'both', 'it?', 'had', 'at', 'bury', 'last', 'which', 'sees.', 'on.', 'Grace.', 'will', 'coming,', 'You', 'no', 'madman', 'the', 'one', 'saddle', 'you,', 'he', 'him?', 'Get', 'quick', 'I,', 'have', 'if', 'And', 'He', 'yourselves.', 'Go', 'was', 'Tell', 'Keep', 'me.', 'they', 'years.', 'understand', 'these', 'me', 'First', 'King', 'die,', 'lions', 'with', 'thousands', 'White', 'do', 'sword.', 'outsider.', 'wonâ€™t', 'Arryn.', 'My', 'in', 'been', 'practicing,', 'We', 'train', 'death.', 'gods', 'Walkers', 'They', 'are', 'them', 'Stark,', 'Warden', 'who', 'forever.', 'A', 'woods.', 'swore', 'oath,', 'rules.', 'sorry,', 'an', 'a', 'all', 'about', 'protector', 'marksman', 'of', 'old', 'too.', 'their', 'realm,', 'lads', 'NED:', 'gone', 'North,', 'horses.', 'should', 'you', 'Your', 'House', 'Lord', 'winter', 'heâ€™s', 'did', 'queen.', 'be', 'ten?', 'But', 'what', 'Kingdoms', 'feed', 'Seven', 'North', 'Better', 'mother.', 'coming.', 'kill', 'Tough', 'direwolf.', 'Cat.', 'Iâ€™m', 'without', 'beast.', 'Youâ€™re', 'why', 'is'}\n",
      "\n",
      "\n",
      " SANSA ------------------------------------------------------------\n",
      "{'shut', 'up?', 'please', 'SANSA:', 'Thank', 'you.', 'Would', 'you', 'up.', 'Will'}\n",
      "\n",
      "\n",
      "\n",
      "All Character's File is Created And unique Words used by them Are Stored In Files Successfully.\n",
      "\n"
     ]
    }
   ],
   "source": [
    "#2.  Create a new text file for each of the characters with their name and store the unique words said by them in \n",
    "#    their respective file. Store one word in one line.\n",
    "c = []\n",
    "unique_words = []\n",
    "for k in b:\n",
    "    print('\\n\\n',k,'------------------------------------------------------------')\n",
    "    c = []\n",
    "    name = k+\".txt\"\n",
    "    my_file = open('dataset/'+name,'w+')\n",
    "    for line in fr :\n",
    "        if line.startswith(k+\":\"):\n",
    "            lines = line.replace(k+\":\",\" \")\n",
    "            lines = line.replace(\"\\n\",\"\")\n",
    "            words = lines.split(' ')\n",
    "            for word in words:\n",
    "                c.append(word)\n",
    "        else:\n",
    "            continue\n",
    "    my_word = set(c)\n",
    "    print(my_word)\n",
    "    for i in my_word:\n",
    "        if i == k+':':\n",
    "            continue                                                       #Removing character's name from set\n",
    "        else:\n",
    "            j = i+\"\\n\"\n",
    "            my_file.writelines(j)    #Storing The Unique Words Said By The Characters To Their Respective Files\n",
    "print(\"\\n\\n\\nAll Character's File is Created And unique Words used by them Are Stored In Files Successfully.\\n\")"
   ]
  },
  {
   "cell_type": "code",
   "execution_count": null,
   "metadata": {},
   "outputs": [],
   "source": []
  }
 ],
 "metadata": {
  "kernelspec": {
   "display_name": "Python 3",
   "language": "python",
   "name": "python3"
  },
  "language_info": {
   "codemirror_mode": {
    "name": "ipython",
    "version": 3
   },
   "file_extension": ".py",
   "mimetype": "text/x-python",
   "name": "python",
   "nbconvert_exporter": "python",
   "pygments_lexer": "ipython3",
   "version": "3.7.6"
  }
 },
 "nbformat": 4,
 "nbformat_minor": 4
}
